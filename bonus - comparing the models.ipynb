{
 "cells": [
  {
   "cell_type": "markdown",
   "id": "cf15f626-3e8e-41e4-bd2f-eb7ac0b0dc95",
   "metadata": {},
   "source": [
    "<center>    \n",
    "    <h1 id='comparing-the-models' style='color:#7159c1; font-size:350%'>Comparing the Models</h1>\n",
    "    <i style='font-size:125%'>A final overview about each Recommendation Model Technique</i>\n",
    "</center>\n",
    "\n",
    "> **Topics**\n",
    "\n",
    "```\n",
    "- 🎗️ Demographic Filtering: Bayesian Mean\n",
    "- 🎗️ Demographic Filtering: Popularity Position\n",
    "- 🎗️ Content-Based Filtering: Plot Description\n",
    "- 🎗️ Content-Based Filtering: Metadatas\n",
    "- 🎗️ Collaborative Filtering: User-Based\n",
    "- 🎗️ Collaborative Filtering: Item-Based\n",
    "- 🎗️ Hybrid Filtering\n",
    "```"
   ]
  },
  {
   "cell_type": "code",
   "execution_count": null,
   "id": "5bd2f21a-1c77-4758-83f1-bf73e08df949",
   "metadata": {},
   "outputs": [],
   "source": []
  }
 ],
 "metadata": {
  "kernelspec": {
   "display_name": "Python 3 (ipykernel)",
   "language": "python",
   "name": "python3"
  },
  "language_info": {
   "codemirror_mode": {
    "name": "ipython",
    "version": 3
   },
   "file_extension": ".py",
   "mimetype": "text/x-python",
   "name": "python",
   "nbconvert_exporter": "python",
   "pygments_lexer": "ipython3",
   "version": "3.10.9"
  }
 },
 "nbformat": 4,
 "nbformat_minor": 5
}

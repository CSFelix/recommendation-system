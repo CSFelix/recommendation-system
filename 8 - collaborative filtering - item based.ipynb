{
 "cells": [
  {
   "cell_type": "markdown",
   "id": "3f46bb15-dc34-4297-bfc3-2d721bc75a52",
   "metadata": {},
   "source": [
    "<center>\n",
    "    <h1 id='content-based-filtering' style='color:#7159c1; font-size:350%'>Collaborative Filtering</h1>\n",
    "    <i style='font-size:125%'>Recommendations of Items from Similar Items that Similar Users Liked</i>\n",
    "</center>\n",
    "\n",
    "> **Topics**\n",
    "\n",
    "```\n",
    "- ✨ Collaborative Filtering User-Based Problems\n",
    "- ✨ Item-Based Approach\n",
    "- ✨ Matrix Decomposition\n",
    "- ✨ Singular Value Decomposition (SVD)\n",
    "- ✨ Singular Value Decomposition (SVD) VS Singular Value Decomposition Plus (SVD++)\n",
    "- ✨ Hands-on\n",
    "```"
   ]
  },
  {
   "cell_type": "markdown",
   "id": "7188abe0-7a59-4969-974a-4259eb35154e",
   "metadata": {},
   "source": [
    "<h1 id='0-collaborative-user-based-problems' style='color:#7159c1; border-bottom:3px solid #7159c1; letter-spacing:2px; font-family:JetBrains Mono; font-weight: bold; text-align:left; font-size:240%;padding:0'>✨ | Collaborative Filtering User-Based Problems</h1>"
   ]
  },
  {
   "cell_type": "code",
   "execution_count": null,
   "id": "edb99355-1797-461a-a8c9-fbc4bd3c194a",
   "metadata": {},
   "outputs": [],
   "source": []
  },
  {
   "cell_type": "code",
   "execution_count": null,
   "id": "d5073ff7-384a-4396-a204-39cdaa27fe3d",
   "metadata": {},
   "outputs": [],
   "source": []
  },
  {
   "cell_type": "code",
   "execution_count": null,
   "id": "9f9475b8-55ce-4a80-b631-4ae9227a9c57",
   "metadata": {},
   "outputs": [],
   "source": []
  },
  {
   "cell_type": "code",
   "execution_count": null,
   "id": "e0006659-5bf1-44c5-ab72-59f4a308910c",
   "metadata": {},
   "outputs": [],
   "source": []
  },
  {
   "cell_type": "code",
   "execution_count": null,
   "id": "deab49d7-1108-4c4a-9156-ba7912f02d47",
   "metadata": {},
   "outputs": [],
   "source": []
  },
  {
   "cell_type": "code",
   "execution_count": null,
   "id": "0783e4f5-60d5-4991-bb4f-b5a6817e5cdb",
   "metadata": {},
   "outputs": [],
   "source": []
  },
  {
   "cell_type": "code",
   "execution_count": null,
   "id": "221efa2e-c2dc-4b78-af49-e2e6ffa1b77e",
   "metadata": {},
   "outputs": [],
   "source": []
  },
  {
   "cell_type": "markdown",
   "id": "cd918ced-a501-4b23-9a43-c2c36fe54d2c",
   "metadata": {},
   "source": [
    "---\n",
    "\n",
    "<h1 id='reach-me' style='color:#7159c1; border-bottom:3px solid #7159c1; letter-spacing:2px; font-family:JetBrains Mono; font-weight: bold; text-align:left; font-size:240%;padding:0'>📫 | Reach Me</h1>\n",
    "\n",
    "> **Email** - [csfelix08@gmail.com](mailto:csfelix08@gmail.com?)\n",
    "\n",
    "> **Linkedin** - [linkedin.com/in/csfelix/](https://www.linkedin.com/in/csfelix/)\n",
    "\n",
    "> **GitHub:** - [CSFelix](https://github.com/CSFelix)\n",
    "\n",
    "> **Kaggle** - [DSFelix](https://www.kaggle.com/dsfelix)\n",
    "\n",
    "> **Portfolio** - [CSFelix.io](https://csfelix.github.io/)."
   ]
  }
 ],
 "metadata": {
  "kernelspec": {
   "display_name": "Python 3 (ipykernel)",
   "language": "python",
   "name": "python3"
  },
  "language_info": {
   "codemirror_mode": {
    "name": "ipython",
    "version": 3
   },
   "file_extension": ".py",
   "mimetype": "text/x-python",
   "name": "python",
   "nbconvert_exporter": "python",
   "pygments_lexer": "ipython3",
   "version": "3.10.9"
  }
 },
 "nbformat": 4,
 "nbformat_minor": 5
}
